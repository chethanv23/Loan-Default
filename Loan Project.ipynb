{
 "cells": [
  {
   "cell_type": "markdown",
   "metadata": {},
   "source": [
    "# Loan Default case"
   ]
  },
  {
   "cell_type": "code",
   "execution_count": 1,
   "metadata": {},
   "outputs": [],
   "source": [
    "import pandas as pd\n",
    "import numpy as np\n",
    "import matplotlib.pyplot as mlp\n",
    "import os"
   ]
  },
  {
   "cell_type": "code",
   "execution_count": 2,
   "metadata": {},
   "outputs": [],
   "source": [
    "os.chdir(\"C:\\\\Users\\\\kumarvch\\\\Desktop\\\\Data_aNALYSIS\\\\ds Project\\\\House price pridiction\")"
   ]
  },
  {
   "cell_type": "code",
   "execution_count": 3,
   "metadata": {},
   "outputs": [
    {
     "data": {
      "text/plain": [
       "'C:\\\\Users\\\\kumarvch\\\\Desktop\\\\Data_aNALYSIS\\\\ds Project\\\\House price pridiction'"
      ]
     },
     "execution_count": 3,
     "metadata": {},
     "output_type": "execute_result"
    }
   ],
   "source": [
    "os.getcwd()"
   ]
  },
  {
   "cell_type": "code",
   "execution_count": 4,
   "metadata": {},
   "outputs": [],
   "source": [
    "data = pd.read_csv(\"bank-loan.csv\")"
   ]
  },
  {
   "cell_type": "code",
   "execution_count": 5,
   "metadata": {},
   "outputs": [
    {
     "data": {
      "text/html": [
       "<div>\n",
       "<style scoped>\n",
       "    .dataframe tbody tr th:only-of-type {\n",
       "        vertical-align: middle;\n",
       "    }\n",
       "\n",
       "    .dataframe tbody tr th {\n",
       "        vertical-align: top;\n",
       "    }\n",
       "\n",
       "    .dataframe thead th {\n",
       "        text-align: right;\n",
       "    }\n",
       "</style>\n",
       "<table border=\"1\" class=\"dataframe\">\n",
       "  <thead>\n",
       "    <tr style=\"text-align: right;\">\n",
       "      <th></th>\n",
       "      <th>age</th>\n",
       "      <th>ed</th>\n",
       "      <th>employ</th>\n",
       "      <th>address</th>\n",
       "      <th>income</th>\n",
       "      <th>debtinc</th>\n",
       "      <th>creddebt</th>\n",
       "      <th>othdebt</th>\n",
       "      <th>default</th>\n",
       "    </tr>\n",
       "  </thead>\n",
       "  <tbody>\n",
       "    <tr>\n",
       "      <td>0</td>\n",
       "      <td>41</td>\n",
       "      <td>3</td>\n",
       "      <td>17</td>\n",
       "      <td>12</td>\n",
       "      <td>176</td>\n",
       "      <td>9.3</td>\n",
       "      <td>11.359392</td>\n",
       "      <td>5.008608</td>\n",
       "      <td>1.0</td>\n",
       "    </tr>\n",
       "    <tr>\n",
       "      <td>1</td>\n",
       "      <td>27</td>\n",
       "      <td>1</td>\n",
       "      <td>10</td>\n",
       "      <td>6</td>\n",
       "      <td>31</td>\n",
       "      <td>17.3</td>\n",
       "      <td>1.362202</td>\n",
       "      <td>4.000798</td>\n",
       "      <td>0.0</td>\n",
       "    </tr>\n",
       "    <tr>\n",
       "      <td>2</td>\n",
       "      <td>40</td>\n",
       "      <td>1</td>\n",
       "      <td>15</td>\n",
       "      <td>14</td>\n",
       "      <td>55</td>\n",
       "      <td>5.5</td>\n",
       "      <td>0.856075</td>\n",
       "      <td>2.168925</td>\n",
       "      <td>0.0</td>\n",
       "    </tr>\n",
       "    <tr>\n",
       "      <td>3</td>\n",
       "      <td>41</td>\n",
       "      <td>1</td>\n",
       "      <td>15</td>\n",
       "      <td>14</td>\n",
       "      <td>120</td>\n",
       "      <td>2.9</td>\n",
       "      <td>2.658720</td>\n",
       "      <td>0.821280</td>\n",
       "      <td>0.0</td>\n",
       "    </tr>\n",
       "    <tr>\n",
       "      <td>4</td>\n",
       "      <td>24</td>\n",
       "      <td>2</td>\n",
       "      <td>2</td>\n",
       "      <td>0</td>\n",
       "      <td>28</td>\n",
       "      <td>17.3</td>\n",
       "      <td>1.787436</td>\n",
       "      <td>3.056564</td>\n",
       "      <td>1.0</td>\n",
       "    </tr>\n",
       "    <tr>\n",
       "      <td>5</td>\n",
       "      <td>41</td>\n",
       "      <td>2</td>\n",
       "      <td>5</td>\n",
       "      <td>5</td>\n",
       "      <td>25</td>\n",
       "      <td>10.2</td>\n",
       "      <td>0.392700</td>\n",
       "      <td>2.157300</td>\n",
       "      <td>0.0</td>\n",
       "    </tr>\n",
       "    <tr>\n",
       "      <td>6</td>\n",
       "      <td>39</td>\n",
       "      <td>1</td>\n",
       "      <td>20</td>\n",
       "      <td>9</td>\n",
       "      <td>67</td>\n",
       "      <td>30.6</td>\n",
       "      <td>3.833874</td>\n",
       "      <td>16.668126</td>\n",
       "      <td>0.0</td>\n",
       "    </tr>\n",
       "    <tr>\n",
       "      <td>7</td>\n",
       "      <td>43</td>\n",
       "      <td>1</td>\n",
       "      <td>12</td>\n",
       "      <td>11</td>\n",
       "      <td>38</td>\n",
       "      <td>3.6</td>\n",
       "      <td>0.128592</td>\n",
       "      <td>1.239408</td>\n",
       "      <td>0.0</td>\n",
       "    </tr>\n",
       "    <tr>\n",
       "      <td>8</td>\n",
       "      <td>24</td>\n",
       "      <td>1</td>\n",
       "      <td>3</td>\n",
       "      <td>4</td>\n",
       "      <td>19</td>\n",
       "      <td>24.4</td>\n",
       "      <td>1.358348</td>\n",
       "      <td>3.277652</td>\n",
       "      <td>1.0</td>\n",
       "    </tr>\n",
       "    <tr>\n",
       "      <td>9</td>\n",
       "      <td>36</td>\n",
       "      <td>1</td>\n",
       "      <td>0</td>\n",
       "      <td>13</td>\n",
       "      <td>25</td>\n",
       "      <td>19.7</td>\n",
       "      <td>2.777700</td>\n",
       "      <td>2.147300</td>\n",
       "      <td>0.0</td>\n",
       "    </tr>\n",
       "  </tbody>\n",
       "</table>\n",
       "</div>"
      ],
      "text/plain": [
       "   age  ed  employ  address  income  debtinc   creddebt    othdebt  default\n",
       "0   41   3      17       12     176      9.3  11.359392   5.008608      1.0\n",
       "1   27   1      10        6      31     17.3   1.362202   4.000798      0.0\n",
       "2   40   1      15       14      55      5.5   0.856075   2.168925      0.0\n",
       "3   41   1      15       14     120      2.9   2.658720   0.821280      0.0\n",
       "4   24   2       2        0      28     17.3   1.787436   3.056564      1.0\n",
       "5   41   2       5        5      25     10.2   0.392700   2.157300      0.0\n",
       "6   39   1      20        9      67     30.6   3.833874  16.668126      0.0\n",
       "7   43   1      12       11      38      3.6   0.128592   1.239408      0.0\n",
       "8   24   1       3        4      19     24.4   1.358348   3.277652      1.0\n",
       "9   36   1       0       13      25     19.7   2.777700   2.147300      0.0"
      ]
     },
     "execution_count": 5,
     "metadata": {},
     "output_type": "execute_result"
    }
   ],
   "source": [
    "data.head(10)"
   ]
  },
  {
   "cell_type": "code",
   "execution_count": 6,
   "metadata": {
    "scrolled": false
   },
   "outputs": [
    {
     "data": {
      "text/plain": [
       "age           int64\n",
       "ed            int64\n",
       "employ        int64\n",
       "address       int64\n",
       "income        int64\n",
       "debtinc     float64\n",
       "creddebt    float64\n",
       "othdebt     float64\n",
       "default     float64\n",
       "dtype: object"
      ]
     },
     "execution_count": 6,
     "metadata": {},
     "output_type": "execute_result"
    }
   ],
   "source": [
    "data.dtypes"
   ]
  },
  {
   "cell_type": "markdown",
   "metadata": {},
   "source": [
    "As the categorical variables are in int64 data type we converted them to Categorical"
   ]
  },
  {
   "cell_type": "code",
   "execution_count": 7,
   "metadata": {},
   "outputs": [],
   "source": [
    "data['ed'] = pd.Categorical(data['ed'])\n",
    "data['employ'] = pd.Categorical(data['employ'])\n",
    "data['address'] = pd.Categorical(data['address'])\n",
    "data['default' ] = pd.Categorical(data['default'])"
   ]
  },
  {
   "cell_type": "code",
   "execution_count": 8,
   "metadata": {},
   "outputs": [
    {
     "data": {
      "text/plain": [
       "age            int64\n",
       "ed          category\n",
       "employ      category\n",
       "address     category\n",
       "income         int64\n",
       "debtinc      float64\n",
       "creddebt     float64\n",
       "othdebt      float64\n",
       "default     category\n",
       "dtype: object"
      ]
     },
     "execution_count": 8,
     "metadata": {},
     "output_type": "execute_result"
    }
   ],
   "source": [
    "data.dtypes"
   ]
  },
  {
   "cell_type": "code",
   "execution_count": 9,
   "metadata": {},
   "outputs": [
    {
     "data": {
      "text/html": [
       "<div>\n",
       "<style scoped>\n",
       "    .dataframe tbody tr th:only-of-type {\n",
       "        vertical-align: middle;\n",
       "    }\n",
       "\n",
       "    .dataframe tbody tr th {\n",
       "        vertical-align: top;\n",
       "    }\n",
       "\n",
       "    .dataframe thead th {\n",
       "        text-align: right;\n",
       "    }\n",
       "</style>\n",
       "<table border=\"1\" class=\"dataframe\">\n",
       "  <thead>\n",
       "    <tr style=\"text-align: right;\">\n",
       "      <th></th>\n",
       "      <th>age</th>\n",
       "      <th>income</th>\n",
       "      <th>debtinc</th>\n",
       "      <th>creddebt</th>\n",
       "      <th>othdebt</th>\n",
       "    </tr>\n",
       "  </thead>\n",
       "  <tbody>\n",
       "    <tr>\n",
       "      <td>count</td>\n",
       "      <td>850.000000</td>\n",
       "      <td>850.000000</td>\n",
       "      <td>850.000000</td>\n",
       "      <td>850.000000</td>\n",
       "      <td>850.000000</td>\n",
       "    </tr>\n",
       "    <tr>\n",
       "      <td>mean</td>\n",
       "      <td>35.029412</td>\n",
       "      <td>46.675294</td>\n",
       "      <td>10.171647</td>\n",
       "      <td>1.576805</td>\n",
       "      <td>3.078789</td>\n",
       "    </tr>\n",
       "    <tr>\n",
       "      <td>std</td>\n",
       "      <td>8.041432</td>\n",
       "      <td>38.543054</td>\n",
       "      <td>6.719441</td>\n",
       "      <td>2.125840</td>\n",
       "      <td>3.398803</td>\n",
       "    </tr>\n",
       "    <tr>\n",
       "      <td>min</td>\n",
       "      <td>20.000000</td>\n",
       "      <td>13.000000</td>\n",
       "      <td>0.100000</td>\n",
       "      <td>0.011696</td>\n",
       "      <td>0.045584</td>\n",
       "    </tr>\n",
       "    <tr>\n",
       "      <td>25%</td>\n",
       "      <td>29.000000</td>\n",
       "      <td>24.000000</td>\n",
       "      <td>5.100000</td>\n",
       "      <td>0.382176</td>\n",
       "      <td>1.045942</td>\n",
       "    </tr>\n",
       "    <tr>\n",
       "      <td>50%</td>\n",
       "      <td>34.000000</td>\n",
       "      <td>35.000000</td>\n",
       "      <td>8.700000</td>\n",
       "      <td>0.885091</td>\n",
       "      <td>2.003243</td>\n",
       "    </tr>\n",
       "    <tr>\n",
       "      <td>75%</td>\n",
       "      <td>41.000000</td>\n",
       "      <td>55.750000</td>\n",
       "      <td>13.800000</td>\n",
       "      <td>1.898440</td>\n",
       "      <td>3.903001</td>\n",
       "    </tr>\n",
       "    <tr>\n",
       "      <td>max</td>\n",
       "      <td>56.000000</td>\n",
       "      <td>446.000000</td>\n",
       "      <td>41.300000</td>\n",
       "      <td>20.561310</td>\n",
       "      <td>35.197500</td>\n",
       "    </tr>\n",
       "  </tbody>\n",
       "</table>\n",
       "</div>"
      ],
      "text/plain": [
       "              age      income     debtinc    creddebt     othdebt\n",
       "count  850.000000  850.000000  850.000000  850.000000  850.000000\n",
       "mean    35.029412   46.675294   10.171647    1.576805    3.078789\n",
       "std      8.041432   38.543054    6.719441    2.125840    3.398803\n",
       "min     20.000000   13.000000    0.100000    0.011696    0.045584\n",
       "25%     29.000000   24.000000    5.100000    0.382176    1.045942\n",
       "50%     34.000000   35.000000    8.700000    0.885091    2.003243\n",
       "75%     41.000000   55.750000   13.800000    1.898440    3.903001\n",
       "max     56.000000  446.000000   41.300000   20.561310   35.197500"
      ]
     },
     "execution_count": 9,
     "metadata": {},
     "output_type": "execute_result"
    }
   ],
   "source": [
    "data.describe()"
   ]
  },
  {
   "cell_type": "markdown",
   "metadata": {},
   "source": [
    "# Missing value analysis"
   ]
  },
  {
   "cell_type": "code",
   "execution_count": 10,
   "metadata": {},
   "outputs": [],
   "source": [
    "missing_values = pd.DataFrame(data.isnull().sum())"
   ]
  },
  {
   "cell_type": "code",
   "execution_count": 11,
   "metadata": {},
   "outputs": [
    {
     "data": {
      "text/html": [
       "<div>\n",
       "<style scoped>\n",
       "    .dataframe tbody tr th:only-of-type {\n",
       "        vertical-align: middle;\n",
       "    }\n",
       "\n",
       "    .dataframe tbody tr th {\n",
       "        vertical-align: top;\n",
       "    }\n",
       "\n",
       "    .dataframe thead th {\n",
       "        text-align: right;\n",
       "    }\n",
       "</style>\n",
       "<table border=\"1\" class=\"dataframe\">\n",
       "  <thead>\n",
       "    <tr style=\"text-align: right;\">\n",
       "      <th></th>\n",
       "      <th>0</th>\n",
       "    </tr>\n",
       "  </thead>\n",
       "  <tbody>\n",
       "    <tr>\n",
       "      <td>age</td>\n",
       "      <td>0.000000</td>\n",
       "    </tr>\n",
       "    <tr>\n",
       "      <td>ed</td>\n",
       "      <td>0.000000</td>\n",
       "    </tr>\n",
       "    <tr>\n",
       "      <td>employ</td>\n",
       "      <td>0.000000</td>\n",
       "    </tr>\n",
       "    <tr>\n",
       "      <td>address</td>\n",
       "      <td>0.000000</td>\n",
       "    </tr>\n",
       "    <tr>\n",
       "      <td>income</td>\n",
       "      <td>0.000000</td>\n",
       "    </tr>\n",
       "    <tr>\n",
       "      <td>debtinc</td>\n",
       "      <td>0.000000</td>\n",
       "    </tr>\n",
       "    <tr>\n",
       "      <td>creddebt</td>\n",
       "      <td>0.000000</td>\n",
       "    </tr>\n",
       "    <tr>\n",
       "      <td>othdebt</td>\n",
       "      <td>0.000000</td>\n",
       "    </tr>\n",
       "    <tr>\n",
       "      <td>default</td>\n",
       "      <td>17.647059</td>\n",
       "    </tr>\n",
       "  </tbody>\n",
       "</table>\n",
       "</div>"
      ],
      "text/plain": [
       "                  0\n",
       "age        0.000000\n",
       "ed         0.000000\n",
       "employ     0.000000\n",
       "address    0.000000\n",
       "income     0.000000\n",
       "debtinc    0.000000\n",
       "creddebt   0.000000\n",
       "othdebt    0.000000\n",
       "default   17.647059"
      ]
     },
     "execution_count": 11,
     "metadata": {},
     "output_type": "execute_result"
    }
   ],
   "source": [
    "missing_values = (missing_values/len(data))*100\n",
    "missing_values"
   ]
  },
  {
   "cell_type": "code",
   "execution_count": 12,
   "metadata": {},
   "outputs": [],
   "source": [
    "data = data.dropna()"
   ]
  },
  {
   "cell_type": "code",
   "execution_count": 13,
   "metadata": {},
   "outputs": [
    {
     "data": {
      "text/plain": [
       "(700, 9)"
      ]
     },
     "execution_count": 13,
     "metadata": {},
     "output_type": "execute_result"
    }
   ],
   "source": [
    "data.shape"
   ]
  },
  {
   "cell_type": "markdown",
   "metadata": {},
   "source": [
    "# Outlier analysis"
   ]
  },
  {
   "cell_type": "markdown",
   "metadata": {},
   "source": [
    "lets find the outliers in contineous numeric data\n",
    "\n",
    "lets create a list of contineus variables"
   ]
  },
  {
   "cell_type": "code",
   "execution_count": 15,
   "metadata": {},
   "outputs": [
    {
     "data": {
      "image/png": "[encoded data removed]",
      "text/plain": [
       "<Figure size 432x288 with 1 Axes>"
      ]
     },
     "metadata": {
      "needs_background": "light"
     },
     "output_type": "display_data"
    },
    {
     "data": {
      "image/png": "[encoded data removed]",
      "text/plain": [
       "<Figure size 432x288 with 1 Axes>"
      ]
     },
     "metadata": {
      "needs_background": "light"
     },
     "output_type": "display_data"
    },
    {
     "data": {
      "image/png": "[encoded data removed]",
      "text/plain": [
       "<Figure size 432x288 with 1 Axes>"
      ]
     },
     "metadata": {
      "needs_background": "light"
     },
     "output_type": "display_data"
    },
    {
     "data": {
      "image/png": "[encoded data removed]",
      "text/plain": [
       "<Figure size 432x288 with 1 Axes>"
      ]
     },
     "metadata": {
      "needs_background": "light"
     },
     "output_type": "display_data"
    },
    {
     "data": {
      "image/png": "[encoded data removed]",
      "text/plain": [
       "<Figure size 432x288 with 1 Axes>"
      ]
     },
     "metadata": {
      "needs_background": "light"
     },
     "output_type": "display_data"
    }
   ],
   "source": [
    "cnames = ['age' , 'income' ,'debtinc' , 'creddebt' ,'othdebt']\n",
    "for i in cnames:\n",
    "    mlp.boxplot(data[i] ,whis=1.5)\n",
    "    mlp.title(i)\n",
    "    mlp.show()"
   ]
  },
  {
   "cell_type": "markdown",
   "metadata": {},
   "source": [
    "We can see from the above boxplot that there are outliers in our numerical data"
   ]
  },
  {
   "cell_type": "code",
   "execution_count": 16,
   "metadata": {},
   "outputs": [
    {
     "name": "stdout",
     "output_type": "stream",
     "text": [
      "The variable age has got 0 outliers and percentage of outliers is 0.0 \n",
      "The variable income has got 40 outliers and percentage of outliers is 5.714285714285714 \n",
      "The variable debtinc has got 14 outliers and percentage of outliers is 2.0 \n",
      "The variable creddebt has got 55 outliers and percentage of outliers is 7.857142857142857 \n",
      "The variable othdebt has got 48 outliers and percentage of outliers is 6.857142857142857 \n"
     ]
    }
   ],
   "source": [
    "cnames = ['age' , 'income' ,'debtinc' , 'creddebt' ,'othdebt']\n",
    "for i in cnames:\n",
    "    q25,q75 = np.percentile(data[i] , (25 , 75))\n",
    "    iqr = q75 -q25\n",
    "    Min = q25 - (1.5*iqr)\n",
    "    Max = q75 + (1.5*iqr)\n",
    "    print(\"The variable {} has got {} outliers and percentage of outliers is {} \".format(i,\n",
    "                                                                             len((np.where((data[i] > Max) | \n",
    "                                                                                           (data[i] < Min))[0])),len((np.where((data[i] > Max) | \n",
    "                                                                                           (data[i] < Min))[0]))*100/len(data)))"
   ]
  },
  {
   "cell_type": "code",
   "execution_count": 17,
   "metadata": {
    "scrolled": false
   },
   "outputs": [],
   "source": [
    "cnames = ['age' , 'income' ,'debtinc' , 'creddebt' ,'othdebt']\n",
    "for i in cnames:\n",
    "    q25,q75 = np.percentile(data[i] , (25 , 75))\n",
    "    iqr = q75 -q25\n",
    "    Min = q25 - (1.5*iqr)\n",
    "    Max = q75 + (1.5*iqr)\n",
    "    data[i] = np.where(data[i] > Max , data[i].median() , data[i] )\n",
    "    data[i] = np.where(data[i] < Min , data[i].median() , data[i] )"
   ]
  },
  {
   "cell_type": "code",
   "execution_count": 18,
   "metadata": {},
   "outputs": [
    {
     "name": "stdout",
     "output_type": "stream",
     "text": [
      "age\n",
      "56.5\n",
      "12.5\n",
      "The variable age has got 0 outliers and percentage of outliers is 0.0 \n",
      "income\n",
      "84.0\n",
      "-12.0\n",
      "The variable income has got 24 outliers and percentage of outliers is 3.4285714285714284 \n",
      "debtinc\n",
      "26.25\n",
      "-7.75\n",
      "The variable debtinc has got 6 outliers and percentage of outliers is 0.8571428571428571 \n",
      "creddebt\n",
      "3.1633823750000003\n",
      "-1.307534625\n",
      "The variable creddebt has got 28 outliers and percentage of outliers is 4.0 \n",
      "othdebt\n",
      "6.071730125\n",
      "-1.9723528750000003\n",
      "The variable othdebt has got 35 outliers and percentage of outliers is 5.0 \n"
     ]
    }
   ],
   "source": [
    "cnames = ['age' , 'income' ,'debtinc' , 'creddebt' ,'othdebt']\n",
    "for i in cnames:\n",
    "    print(i)\n",
    "    q25,q75 = np.percentile(data[i] , (25 , 75))\n",
    "    iqr = q75 -q25\n",
    "    Min = q25 - (1.5*iqr)\n",
    "    Max = q75 + (1.5*iqr)\n",
    "    print(Max)\n",
    "    print(Min)\n",
    "    print(\"The variable {} has got {} outliers and percentage of outliers is {} \".format(i,\n",
    "                                                                             len((np.where((data[i] > Max) | \n",
    "                                                                                           (data[i] < Min))[0])),len((np.where((data[i] > Max) | \n",
    "                                                                                           (data[i] < Min))[0]))*100/len(data)))"
   ]
  },
  {
   "cell_type": "code",
   "execution_count": 19,
   "metadata": {},
   "outputs": [],
   "source": [
    "from scipy.stats.mstats import winsorize"
   ]
  },
  {
   "cell_type": "code",
   "execution_count": 20,
   "metadata": {},
   "outputs": [],
   "source": [
    "data['income']  = winsorize(data['income'] , (0 , 0.04))\n",
    "data['debtinc'] = winsorize(data['debtinc'] , (0 , 0.01))\n",
    "data['creddebt'] = winsorize(data['creddebt'] , (0 , 0.05))\n",
    "data['othdebt'] = winsorize(data['othdebt'] , (0,0.05))"
   ]
  },
  {
   "cell_type": "code",
   "execution_count": 21,
   "metadata": {
    "scrolled": true
   },
   "outputs": [
    {
     "name": "stdout",
     "output_type": "stream",
     "text": [
      "The variable age has got 0 outliers and percentage of outliers is 0.0 \n",
      "The variable income has got 0 outliers and percentage of outliers is 0.0 \n",
      "The variable debtinc has got 0 outliers and percentage of outliers is 0.0 \n",
      "The variable creddebt has got 0 outliers and percentage of outliers is 0.0 \n",
      "The variable othdebt has got 0 outliers and percentage of outliers is 0.0 \n"
     ]
    }
   ],
   "source": [
    "cnames = ['age' , 'income' ,'debtinc' , 'creddebt' ,'othdebt']\n",
    "for i in cnames:\n",
    "    q25,q75 = np.percentile(data[i] , (25 , 75))\n",
    "    iqr = q75 -q25\n",
    "    Min = q25 - (1.5*iqr)\n",
    "    Max = q75 + (1.5*iqr)\n",
    "    print(\"The variable {} has got {} outliers and percentage of outliers is {} \".format(i,\n",
    "                                                                             len((np.where((data[i] > Max) | \n",
    "                                                                                           (data[i] < Min))[0])),len((np.where((data[i] > Max) | \n",
    "                                                                                           (data[i] < Min))[0]))*100/len(data)))"
   ]
  },
  {
   "cell_type": "code",
   "execution_count": 22,
   "metadata": {
    "scrolled": true
   },
   "outputs": [
    {
     "data": {
      "image/png": "[encoded data removed]",
      "text/plain": [
       "<Figure size 432x288 with 1 Axes>"
      ]
     },
     "metadata": {
      "needs_background": "light"
     },
     "output_type": "display_data"
    },
    {
     "data": {
      "image/png": "[encoded data removed]",
      "text/plain": [
       "<Figure size 432x288 with 1 Axes>"
      ]
     },
     "metadata": {
      "needs_background": "light"
     },
     "output_type": "display_data"
    },
    {
     "data": {
      "image/png": "[encoded data removed]",
      "text/plain": [
       "<Figure size 432x288 with 1 Axes>"
      ]
     },
     "metadata": {
      "needs_background": "light"
     },
     "output_type": "display_data"
    },
    {
     "data": {
      "image/png": "[encoded data removed]",
      "text/plain": [
       "<Figure size 432x288 with 1 Axes>"
      ]
     },
     "metadata": {
      "needs_background": "light"
     },
     "output_type": "display_data"
    },
    {
     "data": {
      "image/png": "[encoded data removed]",
      "text/plain": [
       "<Figure size 432x288 with 1 Axes>"
      ]
     },
     "metadata": {
      "needs_background": "light"
     },
     "output_type": "display_data"
    }
   ],
   "source": [
    "for i in cnames:\n",
    "    mlp.boxplot(data[i] ,whis=1.5)\n",
    "    mlp.title(i)\n",
    "    mlp.show()"
   ]
  },
  {
   "cell_type": "markdown",
   "metadata": {},
   "source": [
    "# Feature selection"
   ]
  },
  {
   "cell_type": "code",
   "execution_count": 23,
   "metadata": {},
   "outputs": [
    {
     "data": {
      "text/plain": [
       "<matplotlib.axes._subplots.AxesSubplot at 0x2833b99f488>"
      ]
     },
     "execution_count": 23,
     "metadata": {},
     "output_type": "execute_result"
    },
    {
     "data": {
      "image/png": "[encoded data removed]",
      "text/plain": [
       "<Figure size 1080x864 with 2 Axes>"
      ]
     },
     "metadata": {
      "needs_background": "light"
     },
     "output_type": "display_data"
    }
   ],
   "source": [
    "#lets plot the correlation plot for numeric variables.\n",
    "import seaborn as sn\n",
    "corr = data[cnames].corr()\n",
    "\n",
    "mlp.figure(figsize=(15,12))\n",
    "sn.heatmap(corr , square=True , annot=True, cmap=\"RdYlGn\")"
   ]
  },
  {
   "cell_type": "code",
   "execution_count": 24,
   "metadata": {},
   "outputs": [
    {
     "name": "stdout",
     "output_type": "stream",
     "text": [
      "               age    income   debtinc  creddebt   othdebt\n",
      "age       1.000000  0.458426  0.014866  0.230183  0.295285\n",
      "income    0.458426  1.000000  0.006631  0.307984  0.420193\n",
      "debtinc   0.014866  0.006631  1.000000  0.442235  0.580052\n",
      "creddebt  0.230183  0.307984  0.442235  1.000000  0.418235\n",
      "othdebt   0.295285  0.420193  0.580052  0.418235  1.000000\n"
     ]
    }
   ],
   "source": [
    "print(corr)"
   ]
  },
  {
   "cell_type": "markdown",
   "metadata": {},
   "source": [
    "There is no such variables in the data set which are highly correlated with each other"
   ]
  },
  {
   "cell_type": "code",
   "execution_count": 25,
   "metadata": {},
   "outputs": [
    {
     "data": {
      "text/plain": [
       "age          float64\n",
       "ed          category\n",
       "employ      category\n",
       "address     category\n",
       "income       float64\n",
       "debtinc      float64\n",
       "creddebt     float64\n",
       "othdebt      float64\n",
       "default     category\n",
       "dtype: object"
      ]
     },
     "execution_count": 25,
     "metadata": {},
     "output_type": "execute_result"
    }
   ],
   "source": [
    "data.dtypes"
   ]
  },
  {
   "cell_type": "code",
   "execution_count": 26,
   "metadata": {},
   "outputs": [
    {
     "name": "stdout",
     "output_type": "stream",
     "text": [
      "0.02155395852574417\n",
      "1.7962590422927543e-08\n",
      "0.00021927360430316935\n",
      "3.979757656840162e-153\n"
     ]
    }
   ],
   "source": [
    "cat = ['ed' , 'employ' , 'address' , 'default']\n",
    "from scipy.stats import chi2_contingency\n",
    "for i in cat:\n",
    "    chi2 , p , dof , ex = chi2_contingency(pd.crosstab(data['default'] , data[i]))\n",
    "    print(p)"
   ]
  },
  {
   "cell_type": "markdown",
   "metadata": {},
   "source": [
    "No variable has got p value greater than 0.05 thresh hold value so we consider all the variables."
   ]
  },
  {
   "cell_type": "markdown",
   "metadata": {},
   "source": [
    "# Feature scaling"
   ]
  },
  {
   "cell_type": "code",
   "execution_count": 28,
   "metadata": {
    "scrolled": true
   },
   "outputs": [
    {
     "data": {
      "image/png": "[encoded data removed]",
      "text/plain": [
       "<Figure size 1080x1440 with 5 Axes>"
      ]
     },
     "metadata": {
      "needs_background": "light"
     },
     "output_type": "display_data"
    }
   ],
   "source": [
    "#lets check the distribution of mumeric contineous variables\n",
    "mlp.figure(figsize=(15 , 20))\n",
    "for i in range(len(cnames)):\n",
    "    mlp.subplot(4,2,i+1)\n",
    "    mlp.hist(data[cnames[i]])\n",
    "    mlp.title(cnames[i])"
   ]
  },
  {
   "cell_type": "markdown",
   "metadata": {},
   "source": [
    "From the distribution we can see that all numeric variables are in right skewd distribution"
   ]
  },
  {
   "cell_type": "code",
   "execution_count": 30,
   "metadata": {},
   "outputs": [
    {
     "name": "stdout",
     "output_type": "stream",
     "text": [
      "age\n",
      "income\n",
      "debtinc\n",
      "creddebt\n",
      "othdebt\n"
     ]
    }
   ],
   "source": [
    "#Lets normalise the data\n",
    "for i in cnames:\n",
    "    print(i)\n",
    "    data[i] = (data[i] - min(data[i]))/(max(data[i]) - min(data[i]))"
   ]
  },
  {
   "cell_type": "code",
   "execution_count": 31,
   "metadata": {},
   "outputs": [],
   "source": [
    "data.to_csv(\"Pre_processed_data.csv\")"
   ]
  },
  {
   "cell_type": "code",
   "execution_count": 32,
   "metadata": {},
   "outputs": [],
   "source": [
    "data_p = data.copy()"
   ]
  },
  {
   "cell_type": "code",
   "execution_count": 33,
   "metadata": {},
   "outputs": [
    {
     "data": {
      "text/html": [
       "<div>\n",
       "<style scoped>\n",
       "    .dataframe tbody tr th:only-of-type {\n",
       "        vertical-align: middle;\n",
       "    }\n",
       "\n",
       "    .dataframe tbody tr th {\n",
       "        vertical-align: top;\n",
       "    }\n",
       "\n",
       "    .dataframe thead th {\n",
       "        text-align: right;\n",
       "    }\n",
       "</style>\n",
       "<table border=\"1\" class=\"dataframe\">\n",
       "  <thead>\n",
       "    <tr style=\"text-align: right;\">\n",
       "      <th></th>\n",
       "      <th>age</th>\n",
       "      <th>ed</th>\n",
       "      <th>employ</th>\n",
       "      <th>address</th>\n",
       "      <th>income</th>\n",
       "      <th>debtinc</th>\n",
       "      <th>creddebt</th>\n",
       "      <th>othdebt</th>\n",
       "      <th>default</th>\n",
       "    </tr>\n",
       "  </thead>\n",
       "  <tbody>\n",
       "    <tr>\n",
       "      <td>0</td>\n",
       "      <td>0.583333</td>\n",
       "      <td>3</td>\n",
       "      <td>17</td>\n",
       "      <td>12</td>\n",
       "      <td>0.294118</td>\n",
       "      <td>0.351779</td>\n",
       "      <td>0.280131</td>\n",
       "      <td>0.830475</td>\n",
       "      <td>1.0</td>\n",
       "    </tr>\n",
       "    <tr>\n",
       "      <td>1</td>\n",
       "      <td>0.194444</td>\n",
       "      <td>1</td>\n",
       "      <td>10</td>\n",
       "      <td>6</td>\n",
       "      <td>0.250000</td>\n",
       "      <td>0.667984</td>\n",
       "      <td>0.448685</td>\n",
       "      <td>0.661836</td>\n",
       "      <td>0.0</td>\n",
       "    </tr>\n",
       "    <tr>\n",
       "      <td>2</td>\n",
       "      <td>0.555556</td>\n",
       "      <td>1</td>\n",
       "      <td>15</td>\n",
       "      <td>14</td>\n",
       "      <td>0.602941</td>\n",
       "      <td>0.201581</td>\n",
       "      <td>0.280532</td>\n",
       "      <td>0.355304</td>\n",
       "      <td>0.0</td>\n",
       "    </tr>\n",
       "    <tr>\n",
       "      <td>3</td>\n",
       "      <td>0.583333</td>\n",
       "      <td>1</td>\n",
       "      <td>15</td>\n",
       "      <td>14</td>\n",
       "      <td>0.294118</td>\n",
       "      <td>0.098814</td>\n",
       "      <td>0.879433</td>\n",
       "      <td>0.129799</td>\n",
       "      <td>0.0</td>\n",
       "    </tr>\n",
       "    <tr>\n",
       "      <td>4</td>\n",
       "      <td>0.111111</td>\n",
       "      <td>2</td>\n",
       "      <td>2</td>\n",
       "      <td>0</td>\n",
       "      <td>0.205882</td>\n",
       "      <td>0.667984</td>\n",
       "      <td>0.589962</td>\n",
       "      <td>0.503835</td>\n",
       "      <td>1.0</td>\n",
       "    </tr>\n",
       "    <tr>\n",
       "      <td>...</td>\n",
       "      <td>...</td>\n",
       "      <td>...</td>\n",
       "      <td>...</td>\n",
       "      <td>...</td>\n",
       "      <td>...</td>\n",
       "      <td>...</td>\n",
       "      <td>...</td>\n",
       "      <td>...</td>\n",
       "      <td>...</td>\n",
       "    </tr>\n",
       "    <tr>\n",
       "      <td>695</td>\n",
       "      <td>0.444444</td>\n",
       "      <td>2</td>\n",
       "      <td>6</td>\n",
       "      <td>15</td>\n",
       "      <td>0.191176</td>\n",
       "      <td>0.166008</td>\n",
       "      <td>0.083180</td>\n",
       "      <td>0.156348</td>\n",
       "      <td>1.0</td>\n",
       "    </tr>\n",
       "    <tr>\n",
       "      <td>696</td>\n",
       "      <td>0.250000</td>\n",
       "      <td>2</td>\n",
       "      <td>6</td>\n",
       "      <td>4</td>\n",
       "      <td>0.102941</td>\n",
       "      <td>0.438735</td>\n",
       "      <td>0.118873</td>\n",
       "      <td>0.334652</td>\n",
       "      <td>0.0</td>\n",
       "    </tr>\n",
       "    <tr>\n",
       "      <td>697</td>\n",
       "      <td>0.361111</td>\n",
       "      <td>1</td>\n",
       "      <td>15</td>\n",
       "      <td>3</td>\n",
       "      <td>0.264706</td>\n",
       "      <td>0.284585</td>\n",
       "      <td>0.159329</td>\n",
       "      <td>0.317121</td>\n",
       "      <td>0.0</td>\n",
       "    </tr>\n",
       "    <tr>\n",
       "      <td>698</td>\n",
       "      <td>0.694444</td>\n",
       "      <td>1</td>\n",
       "      <td>19</td>\n",
       "      <td>22</td>\n",
       "      <td>0.926471</td>\n",
       "      <td>0.316206</td>\n",
       "      <td>0.761120</td>\n",
       "      <td>0.689378</td>\n",
       "      <td>0.0</td>\n",
       "    </tr>\n",
       "    <tr>\n",
       "      <td>699</td>\n",
       "      <td>0.472222</td>\n",
       "      <td>1</td>\n",
       "      <td>12</td>\n",
       "      <td>14</td>\n",
       "      <td>0.441176</td>\n",
       "      <td>0.565217</td>\n",
       "      <td>0.991052</td>\n",
       "      <td>0.573571</td>\n",
       "      <td>0.0</td>\n",
       "    </tr>\n",
       "  </tbody>\n",
       "</table>\n",
       "<p>700 rows × 9 columns</p>\n",
       "</div>"
      ],
      "text/plain": [
       "          age ed employ address    income   debtinc  creddebt   othdebt  \\\n",
       "0    0.583333  3     17      12  0.294118  0.351779  0.280131  0.830475   \n",
       "1    0.194444  1     10       6  0.250000  0.667984  0.448685  0.661836   \n",
       "2    0.555556  1     15      14  0.602941  0.201581  0.280532  0.355304   \n",
       "3    0.583333  1     15      14  0.294118  0.098814  0.879433  0.129799   \n",
       "4    0.111111  2      2       0  0.205882  0.667984  0.589962  0.503835   \n",
       "..        ... ..    ...     ...       ...       ...       ...       ...   \n",
       "695  0.444444  2      6      15  0.191176  0.166008  0.083180  0.156348   \n",
       "696  0.250000  2      6       4  0.102941  0.438735  0.118873  0.334652   \n",
       "697  0.361111  1     15       3  0.264706  0.284585  0.159329  0.317121   \n",
       "698  0.694444  1     19      22  0.926471  0.316206  0.761120  0.689378   \n",
       "699  0.472222  1     12      14  0.441176  0.565217  0.991052  0.573571   \n",
       "\n",
       "    default  \n",
       "0       1.0  \n",
       "1       0.0  \n",
       "2       0.0  \n",
       "3       0.0  \n",
       "4       1.0  \n",
       "..      ...  \n",
       "695     1.0  \n",
       "696     0.0  \n",
       "697     0.0  \n",
       "698     0.0  \n",
       "699     0.0  \n",
       "\n",
       "[700 rows x 9 columns]"
      ]
     },
     "execution_count": 33,
     "metadata": {},
     "output_type": "execute_result"
    }
   ],
   "source": [
    "data"
   ]
  },
  {
   "cell_type": "markdown",
   "metadata": {},
   "source": [
    "# Logistic regression Model"
   ]
  },
  {
   "cell_type": "code",
   "execution_count": 34,
   "metadata": {
    "scrolled": true
   },
   "outputs": [
    {
     "data": {
      "text/plain": [
       "age          float64\n",
       "ed          category\n",
       "employ      category\n",
       "address     category\n",
       "income       float64\n",
       "debtinc      float64\n",
       "creddebt     float64\n",
       "othdebt      float64\n",
       "default     category\n",
       "dtype: object"
      ]
     },
     "execution_count": 34,
     "metadata": {},
     "output_type": "execute_result"
    }
   ],
   "source": [
    "data_p.dtypes"
   ]
  },
  {
   "cell_type": "code",
   "execution_count": 35,
   "metadata": {},
   "outputs": [],
   "source": [
    "from sklearn.linear_model import LogisticRegression\n",
    "from sklearn.model_selection import train_test_split\n",
    "from sklearn.model_selection import cross_val_predict\n",
    "from sklearn.model_selection import cross_val_score\n",
    "\n",
    "from sklearn import metrics\n",
    "from sklearn.metrics import classification_report\n",
    "from sklearn.metrics import confusion_matrix\n",
    "from sklearn.metrics import precision_score ,recall_score\n",
    "\n"
   ]
  },
  {
   "cell_type": "markdown",
   "metadata": {},
   "source": [
    "Lets create Dummy variables for all the Categorical variables"
   ]
  },
  {
   "cell_type": "code",
   "execution_count": 36,
   "metadata": {},
   "outputs": [
    {
     "data": {
      "text/plain": [
       "array(['age', 'income', 'debtinc', 'creddebt', 'othdebt', 'default',\n",
       "       'ed_1', 'ed_2', 'ed_3', 'ed_4', 'ed_5', 'employ_0', 'employ_1',\n",
       "       'employ_2', 'employ_3', 'employ_4', 'employ_5', 'employ_6',\n",
       "       'employ_7', 'employ_8', 'employ_9', 'employ_10', 'employ_11',\n",
       "       'employ_12', 'employ_13', 'employ_14', 'employ_15', 'employ_16',\n",
       "       'employ_17', 'employ_18', 'employ_19', 'employ_20', 'employ_21',\n",
       "       'employ_22', 'employ_23', 'employ_24', 'employ_25', 'employ_26',\n",
       "       'employ_27', 'employ_28', 'employ_29', 'employ_30', 'employ_31',\n",
       "       'employ_33', 'address_0', 'address_1', 'address_2', 'address_3',\n",
       "       'address_4', 'address_5', 'address_6', 'address_7', 'address_8',\n",
       "       'address_9', 'address_10', 'address_11', 'address_12',\n",
       "       'address_13', 'address_14', 'address_15', 'address_16',\n",
       "       'address_17', 'address_18', 'address_19', 'address_20',\n",
       "       'address_21', 'address_22', 'address_23', 'address_24',\n",
       "       'address_25', 'address_26', 'address_27', 'address_29',\n",
       "       'address_30', 'address_31', 'address_34'], dtype=object)"
      ]
     },
     "execution_count": 36,
     "metadata": {},
     "output_type": "execute_result"
    }
   ],
   "source": [
    "cat_vars=['ed' , 'employ' , 'address']\n",
    "for var in cat_vars:\n",
    "    cat_list='var'+'_'+var\n",
    "    cat_list = pd.get_dummies(data_p[var], prefix=var)\n",
    "    data1=data_p.join(cat_list)\n",
    "    data_p=data1\n",
    "    \n",
    "cat_vars=['ed' , 'employ' , 'address']\n",
    "data_vars=data_p.columns.values.tolist()\n",
    "to_keep=[i for i in data_vars if i not in cat_vars]\n",
    "data_final=data_p[to_keep]\n",
    "data_final.columns.values"
   ]
  },
  {
   "cell_type": "code",
   "execution_count": 37,
   "metadata": {
    "scrolled": false
   },
   "outputs": [
    {
     "data": {
      "text/html": [
       "<div>\n",
       "<style scoped>\n",
       "    .dataframe tbody tr th:only-of-type {\n",
       "        vertical-align: middle;\n",
       "    }\n",
       "\n",
       "    .dataframe tbody tr th {\n",
       "        vertical-align: top;\n",
       "    }\n",
       "\n",
       "    .dataframe thead th {\n",
       "        text-align: right;\n",
       "    }\n",
       "</style>\n",
       "<table border=\"1\" class=\"dataframe\">\n",
       "  <thead>\n",
       "    <tr style=\"text-align: right;\">\n",
       "      <th></th>\n",
       "      <th>age</th>\n",
       "      <th>income</th>\n",
       "      <th>debtinc</th>\n",
       "      <th>creddebt</th>\n",
       "      <th>othdebt</th>\n",
       "      <th>default</th>\n",
       "      <th>ed_1</th>\n",
       "      <th>ed_2</th>\n",
       "      <th>ed_3</th>\n",
       "      <th>ed_4</th>\n",
       "      <th>...</th>\n",
       "      <th>address_22</th>\n",
       "      <th>address_23</th>\n",
       "      <th>address_24</th>\n",
       "      <th>address_25</th>\n",
       "      <th>address_26</th>\n",
       "      <th>address_27</th>\n",
       "      <th>address_29</th>\n",
       "      <th>address_30</th>\n",
       "      <th>address_31</th>\n",
       "      <th>address_34</th>\n",
       "    </tr>\n",
       "  </thead>\n",
       "  <tbody>\n",
       "    <tr>\n",
       "      <td>0</td>\n",
       "      <td>0.583333</td>\n",
       "      <td>0.294118</td>\n",
       "      <td>0.351779</td>\n",
       "      <td>0.280131</td>\n",
       "      <td>0.830475</td>\n",
       "      <td>1.0</td>\n",
       "      <td>0</td>\n",
       "      <td>0</td>\n",
       "      <td>1</td>\n",
       "      <td>0</td>\n",
       "      <td>...</td>\n",
       "      <td>0</td>\n",
       "      <td>0</td>\n",
       "      <td>0</td>\n",
       "      <td>0</td>\n",
       "      <td>0</td>\n",
       "      <td>0</td>\n",
       "      <td>0</td>\n",
       "      <td>0</td>\n",
       "      <td>0</td>\n",
       "      <td>0</td>\n",
       "    </tr>\n",
       "    <tr>\n",
       "      <td>1</td>\n",
       "      <td>0.194444</td>\n",
       "      <td>0.250000</td>\n",
       "      <td>0.667984</td>\n",
       "      <td>0.448685</td>\n",
       "      <td>0.661836</td>\n",
       "      <td>0.0</td>\n",
       "      <td>1</td>\n",
       "      <td>0</td>\n",
       "      <td>0</td>\n",
       "      <td>0</td>\n",
       "      <td>...</td>\n",
       "      <td>0</td>\n",
       "      <td>0</td>\n",
       "      <td>0</td>\n",
       "      <td>0</td>\n",
       "      <td>0</td>\n",
       "      <td>0</td>\n",
       "      <td>0</td>\n",
       "      <td>0</td>\n",
       "      <td>0</td>\n",
       "      <td>0</td>\n",
       "    </tr>\n",
       "    <tr>\n",
       "      <td>2</td>\n",
       "      <td>0.555556</td>\n",
       "      <td>0.602941</td>\n",
       "      <td>0.201581</td>\n",
       "      <td>0.280532</td>\n",
       "      <td>0.355304</td>\n",
       "      <td>0.0</td>\n",
       "      <td>1</td>\n",
       "      <td>0</td>\n",
       "      <td>0</td>\n",
       "      <td>0</td>\n",
       "      <td>...</td>\n",
       "      <td>0</td>\n",
       "      <td>0</td>\n",
       "      <td>0</td>\n",
       "      <td>0</td>\n",
       "      <td>0</td>\n",
       "      <td>0</td>\n",
       "      <td>0</td>\n",
       "      <td>0</td>\n",
       "      <td>0</td>\n",
       "      <td>0</td>\n",
       "    </tr>\n",
       "    <tr>\n",
       "      <td>3</td>\n",
       "      <td>0.583333</td>\n",
       "      <td>0.294118</td>\n",
       "      <td>0.098814</td>\n",
       "      <td>0.879433</td>\n",
       "      <td>0.129799</td>\n",
       "      <td>0.0</td>\n",
       "      <td>1</td>\n",
       "      <td>0</td>\n",
       "      <td>0</td>\n",
       "      <td>0</td>\n",
       "      <td>...</td>\n",
       "      <td>0</td>\n",
       "      <td>0</td>\n",
       "      <td>0</td>\n",
       "      <td>0</td>\n",
       "      <td>0</td>\n",
       "      <td>0</td>\n",
       "      <td>0</td>\n",
       "      <td>0</td>\n",
       "      <td>0</td>\n",
       "      <td>0</td>\n",
       "    </tr>\n",
       "    <tr>\n",
       "      <td>4</td>\n",
       "      <td>0.111111</td>\n",
       "      <td>0.205882</td>\n",
       "      <td>0.667984</td>\n",
       "      <td>0.589962</td>\n",
       "      <td>0.503835</td>\n",
       "      <td>1.0</td>\n",
       "      <td>0</td>\n",
       "      <td>1</td>\n",
       "      <td>0</td>\n",
       "      <td>0</td>\n",
       "      <td>...</td>\n",
       "      <td>0</td>\n",
       "      <td>0</td>\n",
       "      <td>0</td>\n",
       "      <td>0</td>\n",
       "      <td>0</td>\n",
       "      <td>0</td>\n",
       "      <td>0</td>\n",
       "      <td>0</td>\n",
       "      <td>0</td>\n",
       "      <td>0</td>\n",
       "    </tr>\n",
       "    <tr>\n",
       "      <td>...</td>\n",
       "      <td>...</td>\n",
       "      <td>...</td>\n",
       "      <td>...</td>\n",
       "      <td>...</td>\n",
       "      <td>...</td>\n",
       "      <td>...</td>\n",
       "      <td>...</td>\n",
       "      <td>...</td>\n",
       "      <td>...</td>\n",
       "      <td>...</td>\n",
       "      <td>...</td>\n",
       "      <td>...</td>\n",
       "      <td>...</td>\n",
       "      <td>...</td>\n",
       "      <td>...</td>\n",
       "      <td>...</td>\n",
       "      <td>...</td>\n",
       "      <td>...</td>\n",
       "      <td>...</td>\n",
       "      <td>...</td>\n",
       "      <td>...</td>\n",
       "    </tr>\n",
       "    <tr>\n",
       "      <td>695</td>\n",
       "      <td>0.444444</td>\n",
       "      <td>0.191176</td>\n",
       "      <td>0.166008</td>\n",
       "      <td>0.083180</td>\n",
       "      <td>0.156348</td>\n",
       "      <td>1.0</td>\n",
       "      <td>0</td>\n",
       "      <td>1</td>\n",
       "      <td>0</td>\n",
       "      <td>0</td>\n",
       "      <td>...</td>\n",
       "      <td>0</td>\n",
       "      <td>0</td>\n",
       "      <td>0</td>\n",
       "      <td>0</td>\n",
       "      <td>0</td>\n",
       "      <td>0</td>\n",
       "      <td>0</td>\n",
       "      <td>0</td>\n",
       "      <td>0</td>\n",
       "      <td>0</td>\n",
       "    </tr>\n",
       "    <tr>\n",
       "      <td>696</td>\n",
       "      <td>0.250000</td>\n",
       "      <td>0.102941</td>\n",
       "      <td>0.438735</td>\n",
       "      <td>0.118873</td>\n",
       "      <td>0.334652</td>\n",
       "      <td>0.0</td>\n",
       "      <td>0</td>\n",
       "      <td>1</td>\n",
       "      <td>0</td>\n",
       "      <td>0</td>\n",
       "      <td>...</td>\n",
       "      <td>0</td>\n",
       "      <td>0</td>\n",
       "      <td>0</td>\n",
       "      <td>0</td>\n",
       "      <td>0</td>\n",
       "      <td>0</td>\n",
       "      <td>0</td>\n",
       "      <td>0</td>\n",
       "      <td>0</td>\n",
       "      <td>0</td>\n",
       "    </tr>\n",
       "    <tr>\n",
       "      <td>697</td>\n",
       "      <td>0.361111</td>\n",
       "      <td>0.264706</td>\n",
       "      <td>0.284585</td>\n",
       "      <td>0.159329</td>\n",
       "      <td>0.317121</td>\n",
       "      <td>0.0</td>\n",
       "      <td>1</td>\n",
       "      <td>0</td>\n",
       "      <td>0</td>\n",
       "      <td>0</td>\n",
       "      <td>...</td>\n",
       "      <td>0</td>\n",
       "      <td>0</td>\n",
       "      <td>0</td>\n",
       "      <td>0</td>\n",
       "      <td>0</td>\n",
       "      <td>0</td>\n",
       "      <td>0</td>\n",
       "      <td>0</td>\n",
       "      <td>0</td>\n",
       "      <td>0</td>\n",
       "    </tr>\n",
       "    <tr>\n",
       "      <td>698</td>\n",
       "      <td>0.694444</td>\n",
       "      <td>0.926471</td>\n",
       "      <td>0.316206</td>\n",
       "      <td>0.761120</td>\n",
       "      <td>0.689378</td>\n",
       "      <td>0.0</td>\n",
       "      <td>1</td>\n",
       "      <td>0</td>\n",
       "      <td>0</td>\n",
       "      <td>0</td>\n",
       "      <td>...</td>\n",
       "      <td>1</td>\n",
       "      <td>0</td>\n",
       "      <td>0</td>\n",
       "      <td>0</td>\n",
       "      <td>0</td>\n",
       "      <td>0</td>\n",
       "      <td>0</td>\n",
       "      <td>0</td>\n",
       "      <td>0</td>\n",
       "      <td>0</td>\n",
       "    </tr>\n",
       "    <tr>\n",
       "      <td>699</td>\n",
       "      <td>0.472222</td>\n",
       "      <td>0.441176</td>\n",
       "      <td>0.565217</td>\n",
       "      <td>0.991052</td>\n",
       "      <td>0.573571</td>\n",
       "      <td>0.0</td>\n",
       "      <td>1</td>\n",
       "      <td>0</td>\n",
       "      <td>0</td>\n",
       "      <td>0</td>\n",
       "      <td>...</td>\n",
       "      <td>0</td>\n",
       "      <td>0</td>\n",
       "      <td>0</td>\n",
       "      <td>0</td>\n",
       "      <td>0</td>\n",
       "      <td>0</td>\n",
       "      <td>0</td>\n",
       "      <td>0</td>\n",
       "      <td>0</td>\n",
       "      <td>0</td>\n",
       "    </tr>\n",
       "  </tbody>\n",
       "</table>\n",
       "<p>700 rows × 76 columns</p>\n",
       "</div>"
      ],
      "text/plain": [
       "          age    income   debtinc  creddebt   othdebt default  ed_1  ed_2  \\\n",
       "0    0.583333  0.294118  0.351779  0.280131  0.830475     1.0     0     0   \n",
       "1    0.194444  0.250000  0.667984  0.448685  0.661836     0.0     1     0   \n",
       "2    0.555556  0.602941  0.201581  0.280532  0.355304     0.0     1     0   \n",
       "3    0.583333  0.294118  0.098814  0.879433  0.129799     0.0     1     0   \n",
       "4    0.111111  0.205882  0.667984  0.589962  0.503835     1.0     0     1   \n",
       "..        ...       ...       ...       ...       ...     ...   ...   ...   \n",
       "695  0.444444  0.191176  0.166008  0.083180  0.156348     1.0     0     1   \n",
       "696  0.250000  0.102941  0.438735  0.118873  0.334652     0.0     0     1   \n",
       "697  0.361111  0.264706  0.284585  0.159329  0.317121     0.0     1     0   \n",
       "698  0.694444  0.926471  0.316206  0.761120  0.689378     0.0     1     0   \n",
       "699  0.472222  0.441176  0.565217  0.991052  0.573571     0.0     1     0   \n",
       "\n",
       "     ed_3  ed_4  ...  address_22  address_23  address_24  address_25  \\\n",
       "0       1     0  ...           0           0           0           0   \n",
       "1       0     0  ...           0           0           0           0   \n",
       "2       0     0  ...           0           0           0           0   \n",
       "3       0     0  ...           0           0           0           0   \n",
       "4       0     0  ...           0           0           0           0   \n",
       "..    ...   ...  ...         ...         ...         ...         ...   \n",
       "695     0     0  ...           0           0           0           0   \n",
       "696     0     0  ...           0           0           0           0   \n",
       "697     0     0  ...           0           0           0           0   \n",
       "698     0     0  ...           1           0           0           0   \n",
       "699     0     0  ...           0           0           0           0   \n",
       "\n",
       "     address_26  address_27  address_29  address_30  address_31  address_34  \n",
       "0             0           0           0           0           0           0  \n",
       "1             0           0           0           0           0           0  \n",
       "2             0           0           0           0           0           0  \n",
       "3             0           0           0           0           0           0  \n",
       "4             0           0           0           0           0           0  \n",
       "..          ...         ...         ...         ...         ...         ...  \n",
       "695           0           0           0           0           0           0  \n",
       "696           0           0           0           0           0           0  \n",
       "697           0           0           0           0           0           0  \n",
       "698           0           0           0           0           0           0  \n",
       "699           0           0           0           0           0           0  \n",
       "\n",
       "[700 rows x 76 columns]"
      ]
     },
     "execution_count": 37,
     "metadata": {},
     "output_type": "execute_result"
    }
   ],
   "source": [
    "data"
   ]
  },
  {
   "cell_type": "markdown",
   "metadata": {},
   "source": [
    "Now there are 76 attributes availble and we cannot use all 76 attributes since they increse the complexity of the variable."
   ]
  },
  {
   "cell_type": "markdown",
   "metadata": {},
   "source": [
    "We are selecting only 30 significant features out of all the 76 attributes.for that we use feature importance function"
   ]
  },
  {
   "cell_type": "code",
   "execution_count": 38,
   "metadata": {},
   "outputs": [],
   "source": [
    "X_train , X_test , y_train , y_test = train_test_split(data_final.drop('default' , axis = 1),\n",
    "                                                       data_final['default'], test_size = 0.2 , \n",
    "                                                       random_state = 200)"
   ]
  },
  {
   "cell_type": "code",
   "execution_count": 39,
   "metadata": {},
   "outputs": [],
   "source": [
    "from sklearn.ensemble import ExtraTreesRegressor"
   ]
  },
  {
   "cell_type": "code",
   "execution_count": 40,
   "metadata": {},
   "outputs": [],
   "source": [
    "model = ExtraTreesRegressor()"
   ]
  },
  {
   "cell_type": "code",
   "execution_count": 41,
   "metadata": {},
   "outputs": [
    {
     "data": {
      "text/plain": [
       "ExtraTreesRegressor(bootstrap=False, ccp_alpha=0.0, criterion='mse',\n",
       "                    max_depth=None, max_features='auto', max_leaf_nodes=None,\n",
       "                    max_samples=None, min_impurity_decrease=0.0,\n",
       "                    min_impurity_split=None, min_samples_leaf=1,\n",
       "                    min_samples_split=2, min_weight_fraction_leaf=0.0,\n",
       "                    n_estimators=100, n_jobs=None, oob_score=False,\n",
       "                    random_state=None, verbose=0, warm_start=False)"
      ]
     },
     "execution_count": 41,
     "metadata": {},
     "output_type": "execute_result"
    }
   ],
   "source": [
    "model.fit(X_train,y_train)"
   ]
  },
  {
   "cell_type": "code",
   "execution_count": 42,
   "metadata": {},
   "outputs": [
    {
     "data": {
      "text/plain": [
       "array([5.52331146e-02, 6.74182260e-02, 1.48567732e-01, 6.54453880e-02,\n",
       "       5.10005243e-02, 2.47058120e-02, 2.44596597e-02, 3.55812660e-02,\n",
       "       1.20236621e-02, 9.97211124e-04, 4.48109274e-02, 2.19301686e-02,\n",
       "       3.84428823e-02, 1.95590556e-02, 1.70694601e-02, 1.07536437e-02,\n",
       "       1.22336218e-02, 1.00913043e-02, 2.09531422e-03, 8.01458496e-03,\n",
       "       8.30257166e-03, 3.94808236e-03, 3.97690000e-03, 1.21864488e-02,\n",
       "       7.16524456e-03, 8.25635581e-04, 2.72169975e-03, 1.43305636e-03,\n",
       "       3.44398507e-03, 2.50366573e-03, 3.95125729e-05, 3.26750631e-03,\n",
       "       4.16816256e-04, 0.00000000e+00, 6.63811225e-05, 2.36021769e-04,\n",
       "       0.00000000e+00, 0.00000000e+00, 0.00000000e+00, 0.00000000e+00,\n",
       "       0.00000000e+00, 1.67627668e-03, 0.00000000e+00, 2.24382484e-02,\n",
       "       1.85700660e-02, 2.31958401e-02, 3.12443828e-02, 1.46804686e-02,\n",
       "       1.01444571e-02, 2.09366531e-02, 1.43666060e-02, 1.56381798e-02,\n",
       "       8.30727340e-03, 1.43866409e-02, 1.35782989e-02, 7.56087582e-03,\n",
       "       5.49361120e-03, 8.66831724e-03, 9.59037217e-03, 2.54589156e-04,\n",
       "       6.47809130e-03, 1.32364415e-02, 2.17082083e-03, 4.52773498e-03,\n",
       "       2.18360027e-03, 1.41634135e-03, 4.41132828e-03, 0.00000000e+00,\n",
       "       8.61194988e-04, 1.67748596e-03, 7.62576327e-04, 5.76140413e-04,\n",
       "       0.00000000e+00, 0.00000000e+00, 0.00000000e+00])"
      ]
     },
     "execution_count": 42,
     "metadata": {},
     "output_type": "execute_result"
    }
   ],
   "source": [
    "model.feature_importances_"
   ]
  },
  {
   "cell_type": "code",
   "execution_count": 43,
   "metadata": {},
   "outputs": [],
   "source": [
    "feat_importances = pd.Series(model.feature_importances_, index=X_train.columns)"
   ]
  },
  {
   "cell_type": "code",
   "execution_count": 95,
   "metadata": {},
   "outputs": [
    {
     "data": {
      "text/plain": [
       "age           0.055233\n",
       "income        0.067418\n",
       "debtinc       0.148568\n",
       "creddebt      0.065445\n",
       "othdebt       0.051001\n",
       "                ...   \n",
       "address_27    0.000763\n",
       "address_29    0.000576\n",
       "address_30    0.000000\n",
       "address_31    0.000000\n",
       "address_34    0.000000\n",
       "Length: 75, dtype: float64"
      ]
     },
     "execution_count": 95,
     "metadata": {},
     "output_type": "execute_result"
    }
   ],
   "source": [
    "feat_importances"
   ]
  },
  {
   "cell_type": "code",
   "execution_count": 44,
   "metadata": {},
   "outputs": [
    {
     "data": {
      "image/png": "[encoded data removed]",
      "text/plain": [
       "<Figure size 720x720 with 1 Axes>"
      ]
     },
     "metadata": {
      "needs_background": "light"
     },
     "output_type": "display_data"
    }
   ],
   "source": [
    "mlp.figure(figsize=(10,10))\n",
    "feat_importances.nlargest(10).plot(kind='barh')\n",
    "mlp.xlabel(\"percentage of contribution\")\n",
    "mlp.ylabel(\"features\")\n",
    "mlp.title(\"TOP ten contributing Features\")\n",
    "mlp.show()"
   ]
  },
  {
   "cell_type": "code",
   "execution_count": 45,
   "metadata": {
    "scrolled": true
   },
   "outputs": [
    {
     "data": {
      "text/plain": [
       "['debtinc',\n",
       " 'income',\n",
       " 'creddebt',\n",
       " 'age',\n",
       " 'othdebt',\n",
       " 'employ_0',\n",
       " 'employ_2',\n",
       " 'ed_3',\n",
       " 'address_3',\n",
       " 'ed_1',\n",
       " 'ed_2',\n",
       " 'address_2',\n",
       " 'address_0',\n",
       " 'employ_1',\n",
       " 'address_6',\n",
       " 'employ_3',\n",
       " 'address_1',\n",
       " 'employ_4',\n",
       " 'address_8',\n",
       " 'address_4',\n",
       " 'address_10',\n",
       " 'address_7',\n",
       " 'address_11',\n",
       " 'address_18',\n",
       " 'employ_6',\n",
       " 'employ_13',\n",
       " 'ed_4',\n",
       " 'employ_5',\n",
       " 'address_5',\n",
       " 'employ_7']"
      ]
     },
     "execution_count": 45,
     "metadata": {},
     "output_type": "execute_result"
    }
   ],
   "source": [
    "col=pd.DataFrame(feat_importances.nlargest(30))\n",
    "col = col.reset_index()\n",
    "col = col.rename(columns= {'index' : 'features'})\n",
    "rows = col['features'].values.tolist()\n",
    "rows"
   ]
  },
  {
   "cell_type": "code",
   "execution_count": 46,
   "metadata": {},
   "outputs": [],
   "source": [
    "X_Final = data_p[rows]"
   ]
  },
  {
   "cell_type": "markdown",
   "metadata": {},
   "source": [
    "So now we have created a final data set having only 30 significant features."
   ]
  },
  {
   "cell_type": "code",
   "execution_count": 47,
   "metadata": {},
   "outputs": [],
   "source": [
    "X_train1 , X_test1 , y_train1 , y_test1 = train_test_split(X_Final,\n",
    "                                                       data_p['default'], test_size = 0.2 , \n",
    "                                                       random_state = 200)"
   ]
  },
  {
   "cell_type": "code",
   "execution_count": 48,
   "metadata": {},
   "outputs": [
    {
     "name": "stdout",
     "output_type": "stream",
     "text": [
      "(560, 30) (140, 30) (560,) (140,)\n"
     ]
    }
   ],
   "source": [
    "print(X_train1.shape , \n",
    "      X_test1.shape , \n",
    "      y_train1.shape ,\n",
    "      y_test1.shape)"
   ]
  },
  {
   "cell_type": "code",
   "execution_count": 49,
   "metadata": {},
   "outputs": [],
   "source": [
    "from sklearn.linear_model import LogisticRegression"
   ]
  },
  {
   "cell_type": "code",
   "execution_count": 50,
   "metadata": {},
   "outputs": [
    {
     "data": {
      "text/plain": [
       "LogisticRegression(C=1.0, class_weight=None, dual=False, fit_intercept=True,\n",
       "                   intercept_scaling=1, l1_ratio=None, max_iter=100,\n",
       "                   multi_class='auto', n_jobs=None, penalty='l2',\n",
       "                   random_state=None, solver='liblinear', tol=0.0001, verbose=0,\n",
       "                   warm_start=False)"
      ]
     },
     "execution_count": 50,
     "metadata": {},
     "output_type": "execute_result"
    }
   ],
   "source": [
    "LogReg = LogisticRegression(solver='liblinear')\n",
    "LogReg.fit(X_train1 , y_train1)"
   ]
  },
  {
   "cell_type": "code",
   "execution_count": null,
   "metadata": {},
   "outputs": [],
   "source": [
    "LogisticRegression()"
   ]
  },
  {
   "cell_type": "code",
   "execution_count": 51,
   "metadata": {},
   "outputs": [],
   "source": [
    "y_predict = LogReg.predict(X_test1)"
   ]
  },
  {
   "cell_type": "code",
   "execution_count": 52,
   "metadata": {},
   "outputs": [
    {
     "data": {
      "text/plain": [
       "array([0., 1., 1., 0., 0., 0., 0., 1., 0., 1., 0., 0., 0., 0., 0., 0., 0.,\n",
       "       0., 0., 0., 0., 0., 0., 0., 0., 0., 0., 0., 0., 0., 0., 0., 0., 1.,\n",
       "       0., 1., 1., 0., 0., 0., 0., 0., 0., 0., 0., 0., 1., 0., 1., 0., 0.,\n",
       "       0., 0., 0., 0., 0., 0., 0., 0., 0., 0., 1., 0., 1., 0., 0., 0., 0.,\n",
       "       0., 0., 0., 0., 0., 0., 1., 0., 0., 0., 0., 0., 0., 0., 0., 0., 0.,\n",
       "       0., 0., 0., 0., 0., 0., 0., 0., 0., 0., 1., 0., 0., 0., 0., 0., 0.,\n",
       "       0., 0., 0., 0., 0., 0., 0., 0., 1., 0., 0., 0., 0., 1., 0., 0., 0.,\n",
       "       1., 0., 0., 0., 0., 0., 0., 0., 0., 0., 0., 0., 0., 0., 0., 1., 0.,\n",
       "       0., 0., 0., 0.])"
      ]
     },
     "execution_count": 52,
     "metadata": {},
     "output_type": "execute_result"
    }
   ],
   "source": [
    "y_predict"
   ]
  },
  {
   "cell_type": "markdown",
   "metadata": {},
   "source": [
    "# Model Evaluation\n",
    "Classification report without cross-validation"
   ]
  },
  {
   "cell_type": "code",
   "execution_count": 53,
   "metadata": {
    "scrolled": false
   },
   "outputs": [
    {
     "name": "stdout",
     "output_type": "stream",
     "text": [
      "              precision    recall  f1-score   support\n",
      "\n",
      "         0.0       0.87      0.94      0.90       114\n",
      "         1.0       0.59      0.38      0.47        26\n",
      "\n",
      "    accuracy                           0.84       140\n",
      "   macro avg       0.73      0.66      0.68       140\n",
      "weighted avg       0.82      0.84      0.82       140\n",
      "\n"
     ]
    }
   ],
   "source": [
    "print(classification_report(y_test1 , y_predict))"
   ]
  },
  {
   "cell_type": "code",
   "execution_count": 54,
   "metadata": {},
   "outputs": [
    {
     "data": {
      "text/plain": [
       "0.8357142857142857"
      ]
     },
     "execution_count": 54,
     "metadata": {},
     "output_type": "execute_result"
    }
   ],
   "source": [
    "LogReg.score(X_test1, y_test1)"
   ]
  },
  {
   "cell_type": "markdown",
   "metadata": {},
   "source": [
    "K-fold cross-validation & confusion matrices"
   ]
  },
  {
   "cell_type": "code",
   "execution_count": 55,
   "metadata": {},
   "outputs": [
    {
     "data": {
      "text/plain": [
       "0.7678571428571429"
      ]
     },
     "execution_count": 55,
     "metadata": {},
     "output_type": "execute_result"
    }
   ],
   "source": [
    "Score= cross_val_score(LogReg , X_train1 , y_train1 ,cv=5)\n",
    "Score\n",
    "Score.mean()"
   ]
  },
  {
   "cell_type": "code",
   "execution_count": 56,
   "metadata": {},
   "outputs": [
    {
     "data": {
      "text/html": [
       "<div>\n",
       "<style scoped>\n",
       "    .dataframe tbody tr th:only-of-type {\n",
       "        vertical-align: middle;\n",
       "    }\n",
       "\n",
       "    .dataframe tbody tr th {\n",
       "        vertical-align: top;\n",
       "    }\n",
       "\n",
       "    .dataframe thead th {\n",
       "        text-align: right;\n",
       "    }\n",
       "</style>\n",
       "<table border=\"1\" class=\"dataframe\">\n",
       "  <thead>\n",
       "    <tr style=\"text-align: right;\">\n",
       "      <th>col_0</th>\n",
       "      <th>0.0</th>\n",
       "      <th>1.0</th>\n",
       "    </tr>\n",
       "    <tr>\n",
       "      <th>default</th>\n",
       "      <th></th>\n",
       "      <th></th>\n",
       "    </tr>\n",
       "  </thead>\n",
       "  <tbody>\n",
       "    <tr>\n",
       "      <td>0.0</td>\n",
       "      <td>107</td>\n",
       "      <td>7</td>\n",
       "    </tr>\n",
       "    <tr>\n",
       "      <td>1.0</td>\n",
       "      <td>16</td>\n",
       "      <td>10</td>\n",
       "    </tr>\n",
       "  </tbody>\n",
       "</table>\n",
       "</div>"
      ],
      "text/plain": [
       "col_0    0.0  1.0\n",
       "default          \n",
       "0.0      107    7\n",
       "1.0       16   10"
      ]
     },
     "execution_count": 56,
     "metadata": {},
     "output_type": "execute_result"
    }
   ],
   "source": [
    "CM = pd.crosstab(y_test1 , y_predict)\n",
    "CM"
   ]
  },
  {
   "cell_type": "code",
   "execution_count": 57,
   "metadata": {},
   "outputs": [],
   "source": [
    "TP = CM.iloc[1,1]\n",
    "TN = CM.iloc[0,0]\n",
    "FP = CM.iloc[0,1]\n",
    "FN = CM.iloc[1,0]"
   ]
  },
  {
   "cell_type": "markdown",
   "metadata": {},
   "source": [
    "Classification Accuracy: Overall, how often is the classifier correct?    "
   ]
  },
  {
   "cell_type": "code",
   "execution_count": 58,
   "metadata": {
    "scrolled": true
   },
   "outputs": [
    {
     "name": "stdout",
     "output_type": "stream",
     "text": [
      "0.8357142857142857\n",
      "0.8357142857142857\n"
     ]
    }
   ],
   "source": [
    "print((TP + TN) / float(TP + TN + FP + FN))\n",
    "print(metrics.accuracy_score(y_test1, y_predict))"
   ]
  },
  {
   "cell_type": "markdown",
   "metadata": {},
   "source": [
    "#sensitivity or recall score or true positive rate\n",
    "#When the actual value is positive, how often is the prediction correct?"
   ]
  },
  {
   "cell_type": "code",
   "execution_count": 59,
   "metadata": {},
   "outputs": [
    {
     "name": "stdout",
     "output_type": "stream",
     "text": [
      "0.38461538461538464\n",
      "0.38461538461538464\n"
     ]
    }
   ],
   "source": [
    "print(TP / (TP+FN))\n",
    "\n",
    "print(recall_score(y_test1 , y_predict))"
   ]
  },
  {
   "cell_type": "markdown",
   "metadata": {},
   "source": [
    "\n",
    "\n",
    "Specificity: When the actual value is negative, how often is the prediction correct?\n",
    "\n",
    "    How \"specific\" (or \"selective\") is the classifier in predicting positive instances?\n",
    "\n"
   ]
  },
  {
   "cell_type": "code",
   "execution_count": 60,
   "metadata": {},
   "outputs": [
    {
     "name": "stdout",
     "output_type": "stream",
     "text": [
      "0.9385964912280702\n"
     ]
    }
   ],
   "source": [
    "print(TN / float(TN + FP))"
   ]
  },
  {
   "cell_type": "markdown",
   "metadata": {},
   "source": [
    "False Positive Rate: When the actual value is negative, how often is the prediction incorrect?\n"
   ]
  },
  {
   "cell_type": "code",
   "execution_count": 61,
   "metadata": {},
   "outputs": [
    {
     "name": "stdout",
     "output_type": "stream",
     "text": [
      "0.06140350877192982\n"
     ]
    }
   ],
   "source": [
    "print(FP / float(TN + FP))"
   ]
  },
  {
   "cell_type": "markdown",
   "metadata": {},
   "source": [
    "\n",
    "\n",
    "Precision: When a positive value is predicted, how often is the prediction correct?\n",
    "\n",
    "    How \"precise\" is the classifier when predicting positive instances?\n",
    "\n"
   ]
  },
  {
   "cell_type": "code",
   "execution_count": 62,
   "metadata": {},
   "outputs": [
    {
     "name": "stdout",
     "output_type": "stream",
     "text": [
      "0.5882352941176471\n",
      "0.5882352941176471\n"
     ]
    }
   ],
   "source": [
    "\n",
    "\n",
    "print(TP / float(TP + FP))\n",
    "print(metrics.precision_score(y_test1, y_predict))\n",
    "\n"
   ]
  },
  {
   "cell_type": "markdown",
   "metadata": {},
   "source": [
    "our business objective is to increase the sensitivity of the model \n",
    "\n",
    "i.e When the actual value is positive, how often is the prediction correct\n",
    "\n",
    "currently sensitivity of the model is 38% , means chances of chances of predicting default customer is very less.\n",
    "\n"
   ]
  },
  {
   "cell_type": "markdown",
   "metadata": {},
   "source": [
    " Lets adjust the classification threshHold to see how sensitivity changes with the thresh hold."
   ]
  },
  {
   "cell_type": "code",
   "execution_count": 63,
   "metadata": {},
   "outputs": [
    {
     "data": {
      "text/plain": [
       "array([0.36705378, 0.54381335, 0.57160043, 0.39400815, 0.22336903,\n",
       "       0.20365143, 0.17375037, 0.57665227, 0.20517058, 0.81494162])"
      ]
     },
     "execution_count": 63,
     "metadata": {},
     "output_type": "execute_result"
    }
   ],
   "source": [
    "LogReg.predict_proba(X_test1)[0:10 , 1]"
   ]
  },
  {
   "cell_type": "code",
   "execution_count": 64,
   "metadata": {},
   "outputs": [],
   "source": [
    "# store the predicted probabilities for class 1\n",
    "\n",
    "y_pred_prob  = LogReg.predict_proba(X_test1)[: , 1]"
   ]
  },
  {
   "cell_type": "code",
   "execution_count": 65,
   "metadata": {},
   "outputs": [],
   "source": [
    "%matplotlib inline\n",
    "import matplotlib.pyplot as mlp"
   ]
  },
  {
   "cell_type": "code",
   "execution_count": 66,
   "metadata": {},
   "outputs": [
    {
     "data": {
      "text/plain": [
       "Text(0, 0.5, 'Frequency')"
      ]
     },
     "execution_count": 66,
     "metadata": {},
     "output_type": "execute_result"
    },
    {
     "data": {
      "image/png": "[encoded data removed]",
      "text/plain": [
       "<Figure size 432x288 with 1 Axes>"
      ]
     },
     "metadata": {
      "needs_background": "light"
     },
     "output_type": "display_data"
    }
   ],
   "source": [
    "mlp.hist(y_pred_prob , bins=8)\n",
    "mlp.xlim(0,1)\n",
    "mlp.title(\"Histogram of predicted probability\")\n",
    "mlp.xlabel(\"Predected probability of Default\")\n",
    "mlp.ylabel(\"Frequency\")"
   ]
  },
  {
   "cell_type": "code",
   "execution_count": 67,
   "metadata": {},
   "outputs": [],
   "source": [
    "#Decrease the threshold for predicting Default in order to increase the sensitivity of the classifier"
   ]
  },
  {
   "cell_type": "code",
   "execution_count": 68,
   "metadata": {},
   "outputs": [],
   "source": [
    "from sklearn.preprocessing import binarize\n",
    "y_pred_class = binarize([y_pred_prob] ,0.20)[0]"
   ]
  },
  {
   "cell_type": "code",
   "execution_count": 69,
   "metadata": {
    "scrolled": true
   },
   "outputs": [
    {
     "name": "stdout",
     "output_type": "stream",
     "text": [
      "col_0    0.0  1.0\n",
      "default          \n",
      "0.0      107    7\n",
      "1.0       16   10\n"
     ]
    }
   ],
   "source": [
    "# lets compare confusion matrix for old and new thresh hold limits\n",
    "print(CM) # old\n"
   ]
  },
  {
   "cell_type": "code",
   "execution_count": 70,
   "metadata": {},
   "outputs": [
    {
     "name": "stdout",
     "output_type": "stream",
     "text": [
      "[[73 41]\n",
      " [ 4 22]]\n"
     ]
    }
   ],
   "source": [
    "print(confusion_matrix(y_test1, y_pred_class))"
   ]
  },
  {
   "cell_type": "code",
   "execution_count": 71,
   "metadata": {},
   "outputs": [
    {
     "name": "stdout",
     "output_type": "stream",
     "text": [
      "0.8076923076923077\n",
      "0.8461538461538461\n"
     ]
    }
   ],
   "source": [
    "# we can see that TP counts have been increased now.\n",
    "# lets calcultae the sensitivity or recall value\n",
    "\n",
    "print(21/(21+5))\n",
    "print(recall_score(y_test1 ,y_pred_class))"
   ]
  },
  {
   "cell_type": "code",
   "execution_count": 72,
   "metadata": {},
   "outputs": [],
   "source": [
    "#Our sensitivity has been increased from (42% to 92%)"
   ]
  },
  {
   "cell_type": "code",
   "execution_count": 73,
   "metadata": {},
   "outputs": [
    {
     "name": "stdout",
     "output_type": "stream",
     "text": [
      "              precision    recall  f1-score   support\n",
      "\n",
      "         0.0       0.95      0.64      0.76       114\n",
      "         1.0       0.35      0.85      0.49        26\n",
      "\n",
      "    accuracy                           0.68       140\n",
      "   macro avg       0.65      0.74      0.63       140\n",
      "weighted avg       0.84      0.68      0.71       140\n",
      "\n"
     ]
    }
   ],
   "source": [
    "print(classification_report(y_test1 , y_pred_class))"
   ]
  },
  {
   "cell_type": "code",
   "execution_count": 74,
   "metadata": {},
   "outputs": [
    {
     "name": "stdout",
     "output_type": "stream",
     "text": [
      "0.7285714285714285\n"
     ]
    }
   ],
   "source": [
    "#Lets calculate the accuracy of our model if we keep the thresh hold level to 0.3\n",
    "\n",
    "print((81+21)/ (81+21+5+33))\n",
    "\n"
   ]
  },
  {
   "cell_type": "markdown",
   "metadata": {},
   "source": [
    "At the loss of 9% of accuracy our sensitivity or recall has been increased from 38% to 92%"
   ]
  },
  {
   "cell_type": "markdown",
   "metadata": {},
   "source": [
    "# ROC-AUC curve"
   ]
  },
  {
   "cell_type": "markdown",
   "metadata": {},
   "source": [
    "\n",
    "\n",
    "    ROC curve can help you to choose a threshold that balances sensitivity and specificity in a way that makes sense for your particular context\n",
    "    You can't actually see the thresholds used to generate the curve on the ROC curve itself\n",
    "\n"
   ]
  },
  {
   "cell_type": "code",
   "execution_count": 75,
   "metadata": {},
   "outputs": [
    {
     "data": {
      "image/png": "[encoded data removed]",
      "text/plain": [
       "<Figure size 720x576 with 1 Axes>"
      ]
     },
     "metadata": {
      "needs_background": "light"
     },
     "output_type": "display_data"
    }
   ],
   "source": [
    "from sklearn.metrics import roc_curve ,auc\n",
    "\n",
    "l_fpr , l_tpr , threshhold = roc_curve(y_test1 , y_pred_prob)\n",
    "L_auc = auc(l_fpr ,l_tpr)\n",
    "\n",
    "\n",
    "mlp.figure(figsize=(10,8))\n",
    "mlp.plot(l_fpr ,l_tpr , marker='.', label='Logistic (auc = %0.3f)' % L_auc)\n",
    "mlp.xlabel('False Positive Rate -->')\n",
    "mlp.ylabel('True Positive Rate -->')\n",
    "\n",
    "mlp.legend()\n",
    "mlp.show()"
   ]
  },
  {
   "cell_type": "code",
   "execution_count": null,
   "metadata": {},
   "outputs": [],
   "source": []
  }
 ],
 "metadata": {
  "kernelspec": {
   "display_name": "Python 3",
   "language": "python",
   "name": "python3"
  },
  "language_info": {
   "codemirror_mode": {
    "name": "ipython",
    "version": 3
   },
   "file_extension": ".py",
   "mimetype": "text/x-python",
   "name": "python",
   "nbconvert_exporter": "python",
   "pygments_lexer": "ipython3",
   "version": "3.7.4"
  }
 },
 "nbformat": 4,
 "nbformat_minor": 2
}
